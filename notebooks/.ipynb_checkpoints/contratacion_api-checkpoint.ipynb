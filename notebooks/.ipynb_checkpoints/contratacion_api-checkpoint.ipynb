{
 "cells": [
  {
   "cell_type": "code",
   "execution_count": 133,
   "id": "5f295e64-3c8b-4fb6-bf2a-d96717b7676f",
   "metadata": {},
   "outputs": [],
   "source": [
    "import requests\n",
    "import os\n",
    "import csv\n",
    "import numpy as np"
   ]
  },
  {
   "cell_type": "code",
   "execution_count": 134,
   "id": "aa7bc1dd-c092-4fae-9072-a37ff7c3b7da",
   "metadata": {},
   "outputs": [],
   "source": [
    "def batch_process(year, index, batch_size):\n",
    "    \"\"\"\n",
    "    Batch processing API calls\n",
    "    \n",
    "    Parameters\n",
    "    ----------\n",
    "    year : Numeric\n",
    "    index : np.ndarray\n",
    "    batch_size: Numeric\n",
    "    \"\"\"\n",
    "    n = len(index)\n",
    "    \n",
    "    for ii in np.arange(0, n, batch_size):\n",
    "        batch = index[ii:ii+batch_size]\n",
    "        print(f'running batch: {batch[0]}-{batch[-1]}')\n",
    "        \n",
    "        # get data for batch\n",
    "        data = get_data(year, batch)\n",
    "        \n",
    "        # write to csv\n",
    "        write_data(data)\n",
    "        \n",
    "\n",
    "def get_data(year, index):\n",
    "    \"\"\"\n",
    "    Function makes API calls to the SERCOP's open data API. It stores data on government's procurement operations and write \\\n",
    "    the data to the file contratacion_db.csv.\n",
    "    \n",
    "    Parameters\n",
    "    ----------\n",
    "    year : Numeric\n",
    "        Must be an int or float or object to be able to be converted to int data type.\n",
    "    index : Numeric\n",
    "        Must be an int or float or object to be able to be converted to int data type.\n",
    "          \n",
    "    \"\"\"\n",
    "    data = []\n",
    "    url = 'https://datosabiertos.compraspublicas.gob.ec/PLATAFORMA/api/search_ocds'\n",
    "    \n",
    "    for page in index:\n",
    "        try:\n",
    "            res = requests.get(url, \n",
    "                         params={'year':int(year), 'page':int(page)})\\\n",
    "            .json()['data']\n",
    "        except:\n",
    "            res = []\n",
    "        \n",
    "        data += res\n",
    "        \n",
    "    return data\n",
    "\n",
    "def write_data(data):\n",
    "    \"\"\"\n",
    "    Function writes rows to csv \n",
    "    \"\"\"\n",
    "    # select keys as column names\n",
    "    cols = data[0].keys()\n",
    "\n",
    "    with open('../data/contratacion_db.csv', 'a', newline='') as f:\n",
    "        writer = csv.DictWriter(f, fieldnames=cols)\n",
    "        \n",
    "        # write column/field names if file is created\n",
    "        # if not os.path.isfile('../data/contratacion_db.csv'):\n",
    "        writer.writeheader()\n",
    "        \n",
    "        # write csv rows with data dictionaries \n",
    "        writer.writerows(data) \n",
    "        \n",
    "# @write headers only once\n",
    "# @write functions to run asyncroniously\n",
    "# @"
   ]
  },
  {
   "cell_type": "code",
   "execution_count": 135,
   "id": "dfa7285d-2920-4e89-a1f3-14655b389fab",
   "metadata": {},
   "outputs": [
    {
     "name": "stdout",
     "output_type": "stream",
     "text": [
      "running batch: 1-5\n",
      "running batch: 6-10\n"
     ]
    }
   ],
   "source": [
    "batch_process(year=2015, index=np.arange(1, 11, 1), batch_size = 5)"
   ]
  },
  {
   "cell_type": "code",
   "execution_count": 130,
   "id": "f2ec883a-ffa3-4194-bc24-21a3834d6d0c",
   "metadata": {},
   "outputs": [
    {
     "name": "stdout",
     "output_type": "stream",
     "text": [
      "No hay lokitas\n"
     ]
    }
   ],
   "source": [
    "if not os.path.isfile('../data/lokita.csv'):\n",
    "    print('No hay lokitas')"
   ]
  },
  {
   "cell_type": "code",
   "execution_count": 121,
   "id": "5187aecc-afe2-4d4e-8a60-8d7ad1e494db",
   "metadata": {},
   "outputs": [],
   "source": [
    "page1year2015=requests.get('https://datosabiertos.compraspublicas.gob.ec/PLATAFORMA/api/search_ocds', params={'year':2015, 'page':1}).json()"
   ]
  },
  {
   "cell_type": "code",
   "execution_count": 124,
   "id": "af8587ba-3125-4e00-a9ae-4f3dc3953e71",
   "metadata": {},
   "outputs": [
    {
     "data": {
      "text/plain": [
       "10"
      ]
     },
     "execution_count": 124,
     "metadata": {},
     "output_type": "execute_result"
    }
   ],
   "source": [
    "len(page1year2015['data'])"
   ]
  },
  {
   "cell_type": "code",
   "execution_count": null,
   "id": "1abab819-083c-48da-a954-0975ae9e7e64",
   "metadata": {},
   "outputs": [],
   "source": []
  },
  {
   "cell_type": "code",
   "execution_count": null,
   "id": "74a7af7e-272a-48e2-8164-b51cadbe497f",
   "metadata": {},
   "outputs": [],
   "source": []
  },
  {
   "cell_type": "code",
   "execution_count": null,
   "id": "5d2d0f60-8451-47ae-b05a-89ac7dc5a267",
   "metadata": {},
   "outputs": [],
   "source": []
  },
  {
   "cell_type": "markdown",
   "id": "bd5a3fd2-b3d9-4cb4-aff0-b6c2ee516b46",
   "metadata": {},
   "source": [
    "### Número de páginas según año\n",
    "- 2015 --> pages: 28065\n",
    "- 2016 --> pages: 27964\n",
    "- 2017 --> pages: 33428\n",
    "- 2018 --> pages: 35769\n",
    "- 2019 --> pages: 27506\n",
    "- 2020 --> pages: 16068\n",
    "- 2021 --> pages: 16706\n",
    "- 2022 --> pages: 19546\n",
    "- 2023 --> pages: 1354"
   ]
  },
  {
   "cell_type": "code",
   "execution_count": null,
   "id": "52a2a282-e704-4b8a-8212-7be03dde2bba",
   "metadata": {},
   "outputs": [],
   "source": []
  }
 ],
 "metadata": {
  "kernelspec": {
   "display_name": "Python 3 (ipykernel)",
   "language": "python",
   "name": "python3"
  },
  "language_info": {
   "codemirror_mode": {
    "name": "ipython",
    "version": 3
   },
   "file_extension": ".py",
   "mimetype": "text/x-python",
   "name": "python",
   "nbconvert_exporter": "python",
   "pygments_lexer": "ipython3",
   "version": "3.9.7"
  }
 },
 "nbformat": 4,
 "nbformat_minor": 5
}
